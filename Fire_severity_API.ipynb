{
  "nbformat": 4,
  "nbformat_minor": 0,
  "metadata": {
    "colab": {
      "name": "Fire severity-API.ipynb",
      "provenance": [],
      "include_colab_link": true
    },
    "kernelspec": {
      "name": "python3",
      "display_name": "Python 3"
    }
  },
  "cells": [
    {
      "cell_type": "markdown",
      "metadata": {
        "id": "view-in-github",
        "colab_type": "text"
      },
      "source": [
        "<a href=\"https://colab.research.google.com/github/UjalaJha/NasaSpaceAppChallenge/blob/master/Fire_severity_API.ipynb\" target=\"_parent\"><img src=\"https://colab.research.google.com/assets/colab-badge.svg\" alt=\"Open In Colab\"/></a>"
      ]
    },
    {
      "cell_type": "code",
      "metadata": {
        "id": "LFm0UlvtwIyW",
        "outputId": "a36e7d34-cf33-4c4b-a36a-31cc8589af8f",
        "colab": {
          "base_uri": "https://localhost:8080/",
          "height": 781
        }
      },
      "source": [
        "!pip install earthpy seaborn geopandas flask-restful flask-ngrok"
      ],
      "execution_count": null,
      "outputs": [
        {
          "output_type": "stream",
          "text": [
            "Requirement already satisfied: earthpy in /usr/local/lib/python3.6/dist-packages (0.9.2)\n",
            "Requirement already satisfied: seaborn in /usr/local/lib/python3.6/dist-packages (0.11.0)\n",
            "Requirement already satisfied: geopandas in /usr/local/lib/python3.6/dist-packages (0.8.1)\n",
            "Requirement already satisfied: flask-restful in /usr/local/lib/python3.6/dist-packages (0.3.8)\n",
            "Requirement already satisfied: flask-ngrok in /usr/local/lib/python3.6/dist-packages (0.0.25)\n",
            "Requirement already satisfied: rasterio in /usr/local/lib/python3.6/dist-packages (from earthpy) (1.1.7)\n",
            "Requirement already satisfied: numpy>=1.14.0 in /usr/local/lib/python3.6/dist-packages (from earthpy) (1.18.5)\n",
            "Requirement already satisfied: scikit-image in /usr/local/lib/python3.6/dist-packages (from earthpy) (0.16.2)\n",
            "Requirement already satisfied: requests in /usr/local/lib/python3.6/dist-packages (from earthpy) (2.23.0)\n",
            "Requirement already satisfied: matplotlib>=2.0.0 in /usr/local/lib/python3.6/dist-packages (from earthpy) (3.2.2)\n",
            "Requirement already satisfied: scipy>=1.0 in /usr/local/lib/python3.6/dist-packages (from seaborn) (1.4.1)\n",
            "Requirement already satisfied: pandas>=0.23 in /usr/local/lib/python3.6/dist-packages (from seaborn) (1.1.2)\n",
            "Requirement already satisfied: fiona in /usr/local/lib/python3.6/dist-packages (from geopandas) (1.8.17)\n",
            "Requirement already satisfied: pyproj>=2.2.0 in /usr/local/lib/python3.6/dist-packages (from geopandas) (2.6.1.post1)\n",
            "Requirement already satisfied: shapely in /usr/local/lib/python3.6/dist-packages (from geopandas) (1.7.1)\n",
            "Requirement already satisfied: Flask>=0.8 in /usr/local/lib/python3.6/dist-packages (from flask-restful) (1.1.2)\n",
            "Requirement already satisfied: six>=1.3.0 in /usr/local/lib/python3.6/dist-packages (from flask-restful) (1.15.0)\n",
            "Requirement already satisfied: pytz in /usr/local/lib/python3.6/dist-packages (from flask-restful) (2018.9)\n",
            "Requirement already satisfied: aniso8601>=0.82 in /usr/local/lib/python3.6/dist-packages (from flask-restful) (8.0.0)\n",
            "Requirement already satisfied: affine in /usr/local/lib/python3.6/dist-packages (from rasterio->earthpy) (2.3.0)\n",
            "Requirement already satisfied: snuggs>=1.4.1 in /usr/local/lib/python3.6/dist-packages (from rasterio->earthpy) (1.4.7)\n",
            "Requirement already satisfied: click-plugins in /usr/local/lib/python3.6/dist-packages (from rasterio->earthpy) (1.1.1)\n",
            "Requirement already satisfied: attrs in /usr/local/lib/python3.6/dist-packages (from rasterio->earthpy) (20.2.0)\n",
            "Requirement already satisfied: click<8,>=4.0 in /usr/local/lib/python3.6/dist-packages (from rasterio->earthpy) (7.1.2)\n",
            "Requirement already satisfied: cligj>=0.5 in /usr/local/lib/python3.6/dist-packages (from rasterio->earthpy) (0.5.0)\n",
            "Requirement already satisfied: PyWavelets>=0.4.0 in /usr/local/lib/python3.6/dist-packages (from scikit-image->earthpy) (1.1.1)\n",
            "Requirement already satisfied: networkx>=2.0 in /usr/local/lib/python3.6/dist-packages (from scikit-image->earthpy) (2.5)\n",
            "Requirement already satisfied: imageio>=2.3.0 in /usr/local/lib/python3.6/dist-packages (from scikit-image->earthpy) (2.4.1)\n",
            "Requirement already satisfied: pillow>=4.3.0 in /usr/local/lib/python3.6/dist-packages (from scikit-image->earthpy) (7.0.0)\n",
            "Requirement already satisfied: chardet<4,>=3.0.2 in /usr/local/lib/python3.6/dist-packages (from requests->earthpy) (3.0.4)\n",
            "Requirement already satisfied: urllib3!=1.25.0,!=1.25.1,<1.26,>=1.21.1 in /usr/local/lib/python3.6/dist-packages (from requests->earthpy) (1.24.3)\n",
            "Requirement already satisfied: certifi>=2017.4.17 in /usr/local/lib/python3.6/dist-packages (from requests->earthpy) (2020.6.20)\n",
            "Requirement already satisfied: idna<3,>=2.5 in /usr/local/lib/python3.6/dist-packages (from requests->earthpy) (2.10)\n",
            "Requirement already satisfied: kiwisolver>=1.0.1 in /usr/local/lib/python3.6/dist-packages (from matplotlib>=2.0.0->earthpy) (1.2.0)\n",
            "Requirement already satisfied: cycler>=0.10 in /usr/local/lib/python3.6/dist-packages (from matplotlib>=2.0.0->earthpy) (0.10.0)\n",
            "Requirement already satisfied: pyparsing!=2.0.4,!=2.1.2,!=2.1.6,>=2.0.1 in /usr/local/lib/python3.6/dist-packages (from matplotlib>=2.0.0->earthpy) (2.4.7)\n",
            "Requirement already satisfied: python-dateutil>=2.1 in /usr/local/lib/python3.6/dist-packages (from matplotlib>=2.0.0->earthpy) (2.8.1)\n",
            "Requirement already satisfied: munch in /usr/local/lib/python3.6/dist-packages (from fiona->geopandas) (2.5.0)\n",
            "Requirement already satisfied: Werkzeug>=0.15 in /usr/local/lib/python3.6/dist-packages (from Flask>=0.8->flask-restful) (1.0.1)\n",
            "Requirement already satisfied: Jinja2>=2.10.1 in /usr/local/lib/python3.6/dist-packages (from Flask>=0.8->flask-restful) (2.11.2)\n",
            "Requirement already satisfied: itsdangerous>=0.24 in /usr/local/lib/python3.6/dist-packages (from Flask>=0.8->flask-restful) (1.1.0)\n",
            "Requirement already satisfied: decorator>=4.3.0 in /usr/local/lib/python3.6/dist-packages (from networkx>=2.0->scikit-image->earthpy) (4.4.2)\n",
            "Requirement already satisfied: MarkupSafe>=0.23 in /usr/local/lib/python3.6/dist-packages (from Jinja2>=2.10.1->Flask>=0.8->flask-restful) (1.1.1)\n"
          ],
          "name": "stdout"
        }
      ]
    },
    {
      "cell_type": "code",
      "metadata": {
        "id": "sUPiUcNCwPA7"
      },
      "source": [
        "from glob import glob\n",
        "import os\n",
        "import numpy as np\n",
        "\n",
        "import matplotlib.pyplot as plt\n",
        "from matplotlib import patches as mpatches\n",
        "from matplotlib.colors import ListedColormap\n",
        "from matplotlib import colors\n",
        "import matplotlib as mpl\n",
        "import seaborn as sns\n",
        "\n",
        "import rasterio as rio\n",
        "from rasterio.plot import plotting_extent, show\n",
        "from rasterio.plot import reshape_as_raster, reshape_as_image\n",
        "\n",
        "import geopandas as gpd\n",
        "from shapely.geometry import mapping, box\n",
        "\n",
        "import earthpy as et\n",
        "import earthpy.spatial as es\n",
        "import earthpy.plot as ep\n",
        "\n",
        "import flask\n",
        "from flask_ngrok import run_with_ngrok\n",
        "from flask import Flask\n",
        "from flask_restful import Resource, Api\n",
        "import json\n",
        "\n",
        "sns.set_style('white')\n",
        "sns.set(font_scale=1.5)\n",
        "\n",
        "# data1 = et.data.get_data('cold-springs-fire')\n",
        "# data2 = et.data.get_data('cs-test-landsat')\n",
        "# os.chdir(os.path.join(et.io.HOME, 'earth-analytics'))"
      ],
      "execution_count": null,
      "outputs": []
    },
    {
      "cell_type": "code",
      "metadata": {
        "id": "1jOmZp_xwXvJ",
        "outputId": "220bbb81-c587-4b6d-9c7a-e0592d4d0083",
        "colab": {
          "base_uri": "https://localhost:8080/",
          "height": 34
        }
      },
      "source": [
        "from google.colab import drive\n",
        "drive.mount('/content/drive')"
      ],
      "execution_count": null,
      "outputs": [
        {
          "output_type": "stream",
          "text": [
            "Drive already mounted at /content/drive; to attempt to forcibly remount, call drive.mount(\"/content/drive\", force_remount=True).\n"
          ],
          "name": "stdout"
        }
      ]
    },
    {
      "cell_type": "code",
      "metadata": {
        "id": "vihKAEaoGHaE"
      },
      "source": [
        "class NumpyEncoder(json.JSONEncoder):\n",
        "    \"\"\" Special json encoder for numpy types \"\"\"\n",
        "    def default(self, obj):\n",
        "        if isinstance(obj, np.integer):\n",
        "            return int(obj)\n",
        "        elif isinstance(obj, np.floating):\n",
        "            return float(obj)\n",
        "        elif isinstance(obj, np.ndarray):\n",
        "            return obj.tolist()\n",
        "        return json.JSONEncoder.default(self, obj)"
      ],
      "execution_count": null,
      "outputs": []
    },
    {
      "cell_type": "code",
      "metadata": {
        "id": "yB2d1uRj8Hvy"
      },
      "source": [
        "def show_band(img, title='', size=(6,6), cmap='viridis'):\n",
        "  print(title+' Shape: ', img.shape)\n",
        "  fig = plt.figure(figsize=size)\n",
        "  plt.imshow(img.reshape(img.shape[0], img.shape[1]), cmap= cmap)\n",
        "  plt.axis('off')\n",
        "  plt.colorbar()\n",
        "  plt.title(title)\n",
        "  plt.show()\n",
        "\n",
        "def nbr(band1, band2):\n",
        "    \"\"\"\n",
        "    This function takes an input the arrays of the bands from the read_band_image\n",
        "    function and returns the Normalized Burn ratio (NBR)\n",
        "    input:  band1   array (n x m)      array of first band image e.g B8A\n",
        "            band2   array (n x m)      array of second band image e.g. B12\n",
        "    output: nbr     array (n x m)      normalized burn ratio\n",
        "    \"\"\"\n",
        "    nbr = (band1 - band2) / (band1 + band2)\n",
        "    return nbr\n",
        "\n",
        "def dnbr(nbr1,nbr2):\n",
        "    \"\"\"\n",
        "    This function takes as input the pre- and post-fire NBR and returns the dNBR\n",
        "    input:  nbr1     array (n x m)       pre-fire NBR\n",
        "            nbr2     array (n x m)       post-fire NBR\n",
        "    output: dnbr     array (n x m)       dNBR\n",
        "    \"\"\"\n",
        "    dnbr = nbr1 - nbr2\n",
        "    return dnbr"
      ],
      "execution_count": null,
      "outputs": []
    },
    {
      "cell_type": "code",
      "metadata": {
        "id": "t4OJwlYV7bU5"
      },
      "source": [
        "def classify():\n",
        "  # Identify band-paths\n",
        "  sentinel_pre_fire_bands = glob(\"sentinel-pre-fire/*.jp2\")\n",
        "  sentinel_post_fire_bands = glob(\"sentinel-post-fire/*.jp2\")\n",
        "\n",
        "  sentinel_pre_fire_bands.sort()\n",
        "  sentinel_post_fire_bands.sort()\n",
        "\n",
        "  print(sentinel_pre_fire_bands)\n",
        "  print(sentinel_post_fire_bands)\n",
        "\n",
        "  # Read the pre-fire band images\n",
        "  with rio.open(sentinel_pre_fire_bands[3]) as f1:\n",
        "    SWIR = reshape_as_image(f1.read())\n",
        "\n",
        "  with rio.open(sentinel_pre_fire_bands[4]) as f1:\n",
        "    NIR = reshape_as_image(f1.read())\n",
        "\n",
        "  # Calculation of pre-fire NBR\n",
        "  pre_fire_nbr = nbr(NIR.astype(int), SWIR.astype(int))\n",
        "\n",
        "  # Read the post-fire band images\n",
        "  with rio.open(sentinel_post_fire_bands[3]) as f1:\n",
        "      SWIR = reshape_as_image(f1.read())\n",
        "\n",
        "  with rio.open(sentinel_post_fire_bands[4]) as f1:\n",
        "      NIR = reshape_as_image(f1.read())\n",
        "\n",
        "  # Calculation of post-fire NBR\n",
        "  post_fire_nbr = nbr(NIR.astype(int), SWIR.astype(int))\n",
        "\n",
        "  # Calculation of dNBR\n",
        "  DNBR = dnbr(pre_fire_nbr, post_fire_nbr)\n",
        "\n",
        "  dnbr_sentinel_class = get_sentinel_class(DNBR)\n",
        "  \n",
        "  affected_areas = get_area(dnbr_sentinel_class)\n",
        "\n",
        "  data = [dnbr_sentinel_class, affected_areas]\n",
        "  return json.dumps(data, cls=NumpyEncoder)\n",
        "\n",
        "  # return plot_colormap(dnbr_sentinel_class)"
      ],
      "execution_count": null,
      "outputs": []
    },
    {
      "cell_type": "code",
      "metadata": {
        "id": "CbGr7ekP7uee"
      },
      "source": [
        "def get_sentinel_class(DNBR):\n",
        "  dnbr_class_bins = [-np.inf, -0.1, 0.1, 0.27, 0.66, np.inf]\n",
        "  dnbr_sentinel_class = np.digitize(DNBR, dnbr_class_bins)\n",
        "  return dnbr_sentinel_class"
      ],
      "execution_count": null,
      "outputs": []
    },
    {
      "cell_type": "code",
      "metadata": {
        "id": "prVWEmHJ7u4W"
      },
      "source": [
        "def plot_colormap(dnbr_sentinel_class):\n",
        "  dnbr_cat_names = [\"Enhanced Regrowth\",\n",
        "                    \"Unburned\",\n",
        "                    \"Low Severity\",\n",
        "                    \"Moderate Severity\",\n",
        "                    \"High Severity\"]\n",
        "\n",
        "  nbr_colors = [\"g\", \"yellowgreen\", \"peachpuff\", \"coral\", \"maroon\"]\n",
        "\n",
        "  nbr_cmap = ListedColormap(nbr_colors)\n",
        "\n",
        "  # Plot the data with a custom legend\n",
        "  fig, ax = plt.subplots(figsize=(10, 8))\n",
        "  im = ax.imshow(dnbr_sentinel_class.reshape(dnbr_sentinel_class.shape[:2]), cmap=nbr_cmap)\n",
        "\n",
        "  ax.set_title(\"Sentinel dNBR\",\n",
        "              fontsize=16)\n",
        "\n",
        "  cbar = ep.colorbar(im)\n",
        "\n",
        "  cbar.set_ticks(np.unique(dnbr_sentinel_class))\n",
        "  cbar.set_ticklabels(dnbr_cat_names)\n",
        "\n",
        "  # Turn off ticks\n",
        "  ax.set_axis_off()\n",
        "  return plt.show()"
      ],
      "execution_count": null,
      "outputs": []
    },
    {
      "cell_type": "code",
      "metadata": {
        "id": "OhSKOAYMRRbO"
      },
      "source": [
        "# # To calculate area, multiply the number of pixels in each bin by image resolution\n",
        "\n",
        "def get_area(dnbr_sentinel_class):\n",
        "  sentinel_pixel_size = 20 * 20\n",
        "  enhanced_regrowth = (dnbr_sentinel_class[dnbr_sentinel_class == 1]).size\n",
        "  unburned = (dnbr_sentinel_class[dnbr_sentinel_class == 2]).size\n",
        "  low = (dnbr_sentinel_class[dnbr_sentinel_class == 3]).size\n",
        "  moderate = (dnbr_sentinel_class[dnbr_sentinel_class == 4]).size\n",
        "  high = (dnbr_sentinel_class[dnbr_sentinel_class == 5]).size\n",
        "\n",
        "\n",
        "  enhanced_regrowth = np.multiply(enhanced_regrowth, sentinel_pixel_size)/1000000\n",
        "  unburned = np.multiply(unburned, sentinel_pixel_size)/1000000\n",
        "  low = np.multiply(low, sentinel_pixel_size)/1000000\n",
        "  moderate = np.multiply(moderate, sentinel_pixel_size)/1000000\n",
        "  high = np.multiply(high, sentinel_pixel_size)/1000000\n",
        "\n",
        "  affected_areas = {\n",
        "      'enhanced_regrowth': enhanced_regrowth,\n",
        "      'unburned': unburned,\n",
        "      'low': low,\n",
        "      'moderate': moderate,\n",
        "      'high': high,\n",
        "  }\n",
        "  return affected_areas"
      ],
      "execution_count": null,
      "outputs": []
    },
    {
      "cell_type": "code",
      "metadata": {
        "id": "C-kRDAE4u-BE",
        "outputId": "b9c37efc-1260-441d-df33-849c0e08578a",
        "colab": {
          "base_uri": "https://localhost:8080/",
          "height": 1000
        }
      },
      "source": [
        "app = Flask(__name__)\n",
        "api = Api(app)\n",
        "run_with_ngrok(app)   #starts ngrok when the app is run\n",
        "\n",
        "class Classify(Resource):\n",
        "    def get(self, keywords):\n",
        "      # Change directory into the specified case study\n",
        "      os.chdir(\"/content/drive/My Drive/spaceapps_data/{}\".format(keywords))\n",
        "      # Call the classify method here and return the output\n",
        "      return classify()\n",
        "\n",
        "api.add_resource(Classify, '/classify/<string:keywords>')\n",
        "\n",
        "if __name__ == '__main__':\n",
        "    app.run()"
      ],
      "execution_count": null,
      "outputs": [
        {
          "output_type": "stream",
          "text": [
            " * Serving Flask app \"__main__\" (lazy loading)\n",
            " * Environment: production\n",
            "\u001b[31m   WARNING: This is a development server. Do not use it in a production deployment.\u001b[0m\n",
            "\u001b[2m   Use a production WSGI server instead.\u001b[0m\n",
            " * Debug mode: off\n"
          ],
          "name": "stdout"
        },
        {
          "output_type": "stream",
          "text": [
            " * Running on http://127.0.0.1:5000/ (Press CTRL+C to quit)\n"
          ],
          "name": "stderr"
        },
        {
          "output_type": "stream",
          "text": [
            " * Running on http://be0458a9c0db.ngrok.io\n",
            " * Traffic stats available on http://127.0.0.1:4040\n"
          ],
          "name": "stdout"
        },
        {
          "output_type": "stream",
          "text": [
            "127.0.0.1 - - [03/Oct/2020 15:59:00] \"\u001b[33mGET / HTTP/1.1\u001b[0m\" 404 -\n"
          ],
          "name": "stderr"
        },
        {
          "output_type": "stream",
          "text": [
            "['sentinel-pre-fire/T18HYF_20161220T143742_B02.jp2', 'sentinel-pre-fire/T18HYF_20161220T143742_B03.jp2', 'sentinel-pre-fire/T18HYF_20161220T143742_B04.jp2', 'sentinel-pre-fire/T18HYF_20161220T143742_B12.jp2', 'sentinel-pre-fire/T18HYF_20161220T143742_B8A.jp2', 'sentinel-pre-fire/T18HYF_20161220T143742_TCI.jp2']\n",
            "['sentinel-post-fire/T18HYF_20170218T143751_B02.jp2', 'sentinel-post-fire/T18HYF_20170218T143751_B03.jp2', 'sentinel-post-fire/T18HYF_20170218T143751_B04.jp2', 'sentinel-post-fire/T18HYF_20170218T143751_B12.jp2', 'sentinel-post-fire/T18HYF_20170218T143751_B8A.jp2', 'sentinel-post-fire/T18HYF_20170218T143751_TCI.jp2']\n"
          ],
          "name": "stdout"
        },
        {
          "output_type": "stream",
          "text": [
            "127.0.0.1 - - [03/Oct/2020 16:01:54] \"\u001b[37mGET /classify/empedrado_2016_2017 HTTP/1.1\u001b[0m\" 200 -\n"
          ],
          "name": "stderr"
        },
        {
          "output_type": "stream",
          "text": [
            "['sentinel-pre-fire/T18HYF_20161220T143742_B02.jp2', 'sentinel-pre-fire/T18HYF_20161220T143742_B03.jp2', 'sentinel-pre-fire/T18HYF_20161220T143742_B04.jp2', 'sentinel-pre-fire/T18HYF_20161220T143742_B12.jp2', 'sentinel-pre-fire/T18HYF_20161220T143742_B8A.jp2', 'sentinel-pre-fire/T18HYF_20161220T143742_TCI.jp2']\n",
            "['sentinel-post-fire/T18HYF_20170218T143751_B02.jp2', 'sentinel-post-fire/T18HYF_20170218T143751_B03.jp2', 'sentinel-post-fire/T18HYF_20170218T143751_B04.jp2', 'sentinel-post-fire/T18HYF_20170218T143751_B12.jp2', 'sentinel-post-fire/T18HYF_20170218T143751_B8A.jp2', 'sentinel-post-fire/T18HYF_20170218T143751_TCI.jp2']\n"
          ],
          "name": "stdout"
        },
        {
          "output_type": "stream",
          "text": [
            "127.0.0.1 - - [03/Oct/2020 16:06:35] \"\u001b[37mGET /classify/empedrado_2016_2017 HTTP/1.1\u001b[0m\" 200 -\n"
          ],
          "name": "stderr"
        },
        {
          "output_type": "stream",
          "text": [
            "['sentinel-pre-fire/T18HYF_20161220T143742_B02.jp2', 'sentinel-pre-fire/T18HYF_20161220T143742_B03.jp2', 'sentinel-pre-fire/T18HYF_20161220T143742_B04.jp2', 'sentinel-pre-fire/T18HYF_20161220T143742_B12.jp2', 'sentinel-pre-fire/T18HYF_20161220T143742_B8A.jp2', 'sentinel-pre-fire/T18HYF_20161220T143742_TCI.jp2']\n",
            "['sentinel-post-fire/T18HYF_20170218T143751_B02.jp2', 'sentinel-post-fire/T18HYF_20170218T143751_B03.jp2', 'sentinel-post-fire/T18HYF_20170218T143751_B04.jp2', 'sentinel-post-fire/T18HYF_20170218T143751_B12.jp2', 'sentinel-post-fire/T18HYF_20170218T143751_B8A.jp2', 'sentinel-post-fire/T18HYF_20170218T143751_TCI.jp2']\n"
          ],
          "name": "stdout"
        },
        {
          "output_type": "stream",
          "text": [
            "127.0.0.1 - - [03/Oct/2020 16:10:30] \"\u001b[37mGET /classify/empedrado_2016_2017 HTTP/1.1\u001b[0m\" 200 -\n"
          ],
          "name": "stderr"
        },
        {
          "output_type": "stream",
          "text": [
            "['sentinel-pre-fire/T18HYF_20161220T143742_B02.jp2', 'sentinel-pre-fire/T18HYF_20161220T143742_B03.jp2', 'sentinel-pre-fire/T18HYF_20161220T143742_B04.jp2', 'sentinel-pre-fire/T18HYF_20161220T143742_B12.jp2', 'sentinel-pre-fire/T18HYF_20161220T143742_B8A.jp2', 'sentinel-pre-fire/T18HYF_20161220T143742_TCI.jp2']\n",
            "['sentinel-post-fire/T18HYF_20170218T143751_B02.jp2', 'sentinel-post-fire/T18HYF_20170218T143751_B03.jp2', 'sentinel-post-fire/T18HYF_20170218T143751_B04.jp2', 'sentinel-post-fire/T18HYF_20170218T143751_B12.jp2', 'sentinel-post-fire/T18HYF_20170218T143751_B8A.jp2', 'sentinel-post-fire/T18HYF_20170218T143751_TCI.jp2']\n"
          ],
          "name": "stdout"
        },
        {
          "output_type": "stream",
          "text": [
            "127.0.0.1 - - [03/Oct/2020 16:12:22] \"\u001b[37mGET /classify/empedrado_2016_2017 HTTP/1.1\u001b[0m\" 200 -\n"
          ],
          "name": "stderr"
        },
        {
          "output_type": "stream",
          "text": [
            "['sentinel-pre-fire/T56HKJ_20190927T000239_B02.jp2', 'sentinel-pre-fire/T56HKJ_20190927T000239_B03.jp2', 'sentinel-pre-fire/T56HKJ_20190927T000239_B04.jp2', 'sentinel-pre-fire/T56HKJ_20190927T000239_B12.jp2', 'sentinel-pre-fire/T56HKJ_20190927T000239_B8A.jp2', 'sentinel-pre-fire/T56HKJ_20190927T000239_TCI.jp2']\n",
            "['sentinel-post-fire/T56HKJ_20191121T000241_B02.jp2', 'sentinel-post-fire/T56HKJ_20191121T000241_B03.jp2', 'sentinel-post-fire/T56HKJ_20191121T000241_B04.jp2', 'sentinel-post-fire/T56HKJ_20191121T000241_B12.jp2', 'sentinel-post-fire/T56HKJ_20191121T000241_B8A.jp2', 'sentinel-post-fire/T56HKJ_20191121T000241_TCI.jp2']\n"
          ],
          "name": "stdout"
        },
        {
          "output_type": "stream",
          "text": [
            "127.0.0.1 - - [03/Oct/2020 16:15:22] \"\u001b[37mGET /classify/australia_2019 HTTP/1.1\u001b[0m\" 200 -\n"
          ],
          "name": "stderr"
        },
        {
          "output_type": "stream",
          "text": [
            "['sentinel-pre-fire/T56HKJ_20190927T000239_B02.jp2', 'sentinel-pre-fire/T56HKJ_20190927T000239_B03.jp2', 'sentinel-pre-fire/T56HKJ_20190927T000239_B04.jp2', 'sentinel-pre-fire/T56HKJ_20190927T000239_B12.jp2', 'sentinel-pre-fire/T56HKJ_20190927T000239_B8A.jp2', 'sentinel-pre-fire/T56HKJ_20190927T000239_TCI.jp2']\n",
            "['sentinel-post-fire/T56HKJ_20191121T000241_B02.jp2', 'sentinel-post-fire/T56HKJ_20191121T000241_B03.jp2', 'sentinel-post-fire/T56HKJ_20191121T000241_B04.jp2', 'sentinel-post-fire/T56HKJ_20191121T000241_B12.jp2', 'sentinel-post-fire/T56HKJ_20191121T000241_B8A.jp2', 'sentinel-post-fire/T56HKJ_20191121T000241_TCI.jp2']\n"
          ],
          "name": "stdout"
        },
        {
          "output_type": "stream",
          "text": [
            "127.0.0.1 - - [03/Oct/2020 16:20:23] \"\u001b[37mGET /classify/australia_2019 HTTP/1.1\u001b[0m\" 200 -\n"
          ],
          "name": "stderr"
        },
        {
          "output_type": "stream",
          "text": [
            "['sentinel-pre-fire/T18HYF_20161220T143742_B02.jp2', 'sentinel-pre-fire/T18HYF_20161220T143742_B03.jp2', 'sentinel-pre-fire/T18HYF_20161220T143742_B04.jp2', 'sentinel-pre-fire/T18HYF_20161220T143742_B12.jp2', 'sentinel-pre-fire/T18HYF_20161220T143742_B8A.jp2', 'sentinel-pre-fire/T18HYF_20161220T143742_TCI.jp2']\n",
            "['sentinel-post-fire/T18HYF_20170218T143751_B02.jp2', 'sentinel-post-fire/T18HYF_20170218T143751_B03.jp2', 'sentinel-post-fire/T18HYF_20170218T143751_B04.jp2', 'sentinel-post-fire/T18HYF_20170218T143751_B12.jp2', 'sentinel-post-fire/T18HYF_20170218T143751_B8A.jp2', 'sentinel-post-fire/T18HYF_20170218T143751_TCI.jp2']\n",
            "['sentinel-pre-fire/T56HKJ_20190927T000239_B02.jp2', 'sentinel-pre-fire/T56HKJ_20190927T000239_B03.jp2', 'sentinel-pre-fire/T56HKJ_20190927T000239_B04.jp2', 'sentinel-pre-fire/T56HKJ_20190927T000239_B12.jp2', 'sentinel-pre-fire/T56HKJ_20190927T000239_B8A.jp2', 'sentinel-pre-fire/T56HKJ_20190927T000239_TCI.jp2']\n",
            "['sentinel-post-fire/T56HKJ_20191121T000241_B02.jp2', 'sentinel-post-fire/T56HKJ_20191121T000241_B03.jp2', 'sentinel-post-fire/T56HKJ_20191121T000241_B04.jp2', 'sentinel-post-fire/T56HKJ_20191121T000241_B12.jp2', 'sentinel-post-fire/T56HKJ_20191121T000241_B8A.jp2', 'sentinel-post-fire/T56HKJ_20191121T000241_TCI.jp2']\n"
          ],
          "name": "stdout"
        },
        {
          "output_type": "stream",
          "text": [
            "[2020-10-03 16:23:04,801] ERROR in app: Exception on /classify/empedrado_2016_2017 [GET]\n",
            "Traceback (most recent call last):\n",
            "  File \"rasterio/_base.pyx\", line 216, in rasterio._base.DatasetBase.__init__\n",
            "  File \"rasterio/_shim.pyx\", line 67, in rasterio._shim.open_dataset\n",
            "  File \"rasterio/_err.pyx\", line 213, in rasterio._err.exc_wrap_pointer\n",
            "rasterio._err.CPLE_OpenFailedError: sentinel-post-fire/T18HYF_20170218T143751_B12.jp2: No such file or directory\n",
            "\n",
            "During handling of the above exception, another exception occurred:\n",
            "\n",
            "Traceback (most recent call last):\n",
            "  File \"/usr/local/lib/python3.6/dist-packages/flask/app.py\", line 1950, in full_dispatch_request\n",
            "    rv = self.dispatch_request()\n",
            "  File \"/usr/local/lib/python3.6/dist-packages/flask/app.py\", line 1936, in dispatch_request\n",
            "    return self.view_functions[rule.endpoint](**req.view_args)\n",
            "  File \"/usr/local/lib/python3.6/dist-packages/flask_restful/__init__.py\", line 468, in wrapper\n",
            "    resp = resource(*args, **kwargs)\n",
            "  File \"/usr/local/lib/python3.6/dist-packages/flask/views.py\", line 89, in view\n",
            "    return self.dispatch_request(*args, **kwargs)\n",
            "  File \"/usr/local/lib/python3.6/dist-packages/flask_restful/__init__.py\", line 583, in dispatch_request\n",
            "    resp = meth(*args, **kwargs)\n",
            "  File \"<ipython-input-10-c6e6a03383b1>\", line 10, in get\n",
            "    return classify()\n",
            "  File \"<ipython-input-6-afe68c988fae>\", line 23, in classify\n",
            "    with rio.open(sentinel_post_fire_bands[3]) as f1:\n",
            "  File \"/usr/local/lib/python3.6/dist-packages/rasterio/env.py\", line 433, in wrapper\n",
            "    return f(*args, **kwds)\n",
            "  File \"/usr/local/lib/python3.6/dist-packages/rasterio/__init__.py\", line 221, in open\n",
            "    s = DatasetReader(path, driver=driver, sharing=sharing, **kwargs)\n",
            "  File \"rasterio/_base.pyx\", line 218, in rasterio._base.DatasetBase.__init__\n",
            "rasterio.errors.RasterioIOError: sentinel-post-fire/T18HYF_20170218T143751_B12.jp2: No such file or directory\n",
            "127.0.0.1 - - [03/Oct/2020 16:23:04] \"\u001b[35m\u001b[1mGET /classify/empedrado_2016_2017 HTTP/1.1\u001b[0m\" 500 -\n",
            "127.0.0.1 - - [03/Oct/2020 16:23:44] \"\u001b[37mGET /classify/australia_2019 HTTP/1.1\u001b[0m\" 200 -\n"
          ],
          "name": "stderr"
        },
        {
          "output_type": "stream",
          "text": [
            "['sentinel-pre-fire/T18HYF_20161220T143742_B02.jp2', 'sentinel-pre-fire/T18HYF_20161220T143742_B03.jp2', 'sentinel-pre-fire/T18HYF_20161220T143742_B04.jp2', 'sentinel-pre-fire/T18HYF_20161220T143742_B12.jp2', 'sentinel-pre-fire/T18HYF_20161220T143742_B8A.jp2', 'sentinel-pre-fire/T18HYF_20161220T143742_TCI.jp2']\n",
            "['sentinel-post-fire/T18HYF_20170218T143751_B02.jp2', 'sentinel-post-fire/T18HYF_20170218T143751_B03.jp2', 'sentinel-post-fire/T18HYF_20170218T143751_B04.jp2', 'sentinel-post-fire/T18HYF_20170218T143751_B12.jp2', 'sentinel-post-fire/T18HYF_20170218T143751_B8A.jp2', 'sentinel-post-fire/T18HYF_20170218T143751_TCI.jp2']\n"
          ],
          "name": "stdout"
        },
        {
          "output_type": "stream",
          "text": [
            "127.0.0.1 - - [03/Oct/2020 16:32:07] \"\u001b[37mGET /classify/empedrado_2016_2017 HTTP/1.1\u001b[0m\" 200 -\n"
          ],
          "name": "stderr"
        }
      ]
    }
  ]
}