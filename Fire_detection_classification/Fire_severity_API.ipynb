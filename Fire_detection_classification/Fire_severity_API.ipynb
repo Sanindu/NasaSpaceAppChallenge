{
  "nbformat": 4,
  "nbformat_minor": 0,
  "metadata": {
    "colab": {
      "name": "Fire severity-API.ipynb",
      "provenance": [],
      "collapsed_sections": [],
      "include_colab_link": true
    },
    "kernelspec": {
      "name": "python3",
      "display_name": "Python 3"
    }
  },
  "cells": [
    {
      "cell_type": "markdown",
      "metadata": {
        "id": "view-in-github",
        "colab_type": "text"
      },
      "source": [
        "<a href=\"https://colab.research.google.com/github/UjalaJha/NasaSpaceAppChallenge/blob/master/Fire_detection_classification/Fire_severity_API.ipynb\" target=\"_parent\"><img src=\"https://colab.research.google.com/assets/colab-badge.svg\" alt=\"Open In Colab\"/></a>"
      ]
    },
    {
      "cell_type": "code",
      "metadata": {
        "id": "LFm0UlvtwIyW",
        "outputId": "59d664b9-02e1-4016-9bdc-0f50e973b442",
        "colab": {
          "base_uri": "https://localhost:8080/",
          "height": 1000
        }
      },
      "source": [
        "!pip install earthpy seaborn geopandas flask-restful flask-ngrok"
      ],
      "execution_count": null,
      "outputs": [
        {
          "output_type": "stream",
          "text": [
            "Collecting earthpy\n",
            "\u001b[?25l  Downloading https://files.pythonhosted.org/packages/2d/ee/30cd183c5b58c967ec52bb3bd8decc0a1798f15c94898b84e6ee6b0baa39/earthpy-0.9.2.tar.gz (1.4MB)\n",
            "\u001b[K     |████████████████████████████████| 1.4MB 4.1MB/s \n",
            "\u001b[?25h  Installing build dependencies ... \u001b[?25l\u001b[?25hdone\n",
            "  Getting requirements to build wheel ... \u001b[?25l\u001b[?25hdone\n",
            "    Preparing wheel metadata ... \u001b[?25l\u001b[?25hdone\n",
            "Requirement already satisfied: seaborn in /usr/local/lib/python3.6/dist-packages (0.11.0)\n",
            "Collecting geopandas\n",
            "\u001b[?25l  Downloading https://files.pythonhosted.org/packages/f7/a4/e66aafbefcbb717813bf3a355c8c4fc3ed04ea1dd7feb2920f2f4f868921/geopandas-0.8.1-py2.py3-none-any.whl (962kB)\n",
            "\u001b[K     |████████████████████████████████| 972kB 14.9MB/s \n",
            "\u001b[?25hCollecting flask-restful\n",
            "  Downloading https://files.pythonhosted.org/packages/e9/83/d0d33c971de2d38e54b0037136c8b8d20b9c83d308bc6c220a25162755fd/Flask_RESTful-0.3.8-py2.py3-none-any.whl\n",
            "Collecting flask-ngrok\n",
            "  Downloading https://files.pythonhosted.org/packages/af/6c/f54cb686ad1129e27d125d182f90f52b32f284e6c8df58c1bae54fa1adbc/flask_ngrok-0.0.25-py3-none-any.whl\n",
            "Requirement already satisfied: scikit-image in /usr/local/lib/python3.6/dist-packages (from earthpy) (0.16.2)\n",
            "Requirement already satisfied: matplotlib>=2.0.0 in /usr/local/lib/python3.6/dist-packages (from earthpy) (3.2.2)\n",
            "Collecting rasterio\n",
            "\u001b[?25l  Downloading https://files.pythonhosted.org/packages/cc/1c/0f36885ac5864b8ad75f167ca1d403666a5f0c3b2ea8ad3366c98a628e99/rasterio-1.1.7-cp36-cp36m-manylinux1_x86_64.whl (18.1MB)\n",
            "\u001b[K     |████████████████████████████████| 18.1MB 222kB/s \n",
            "\u001b[?25hRequirement already satisfied: requests in /usr/local/lib/python3.6/dist-packages (from earthpy) (2.23.0)\n",
            "Requirement already satisfied: numpy>=1.14.0 in /usr/local/lib/python3.6/dist-packages (from earthpy) (1.18.5)\n",
            "Requirement already satisfied: pandas>=0.23 in /usr/local/lib/python3.6/dist-packages (from seaborn) (1.1.2)\n",
            "Requirement already satisfied: scipy>=1.0 in /usr/local/lib/python3.6/dist-packages (from seaborn) (1.4.1)\n",
            "Requirement already satisfied: shapely in /usr/local/lib/python3.6/dist-packages (from geopandas) (1.7.1)\n",
            "Collecting fiona\n",
            "\u001b[?25l  Downloading https://files.pythonhosted.org/packages/36/8b/e8b2c11bed5373c8e98edb85ce891b09aa1f4210fd451d0fb3696b7695a2/Fiona-1.8.17-cp36-cp36m-manylinux1_x86_64.whl (14.8MB)\n",
            "\u001b[K     |████████████████████████████████| 14.8MB 250kB/s \n",
            "\u001b[?25hCollecting pyproj>=2.2.0\n",
            "\u001b[?25l  Downloading https://files.pythonhosted.org/packages/e5/c3/071e080230ac4b6c64f1a2e2f9161c9737a2bc7b683d2c90b024825000c0/pyproj-2.6.1.post1-cp36-cp36m-manylinux2010_x86_64.whl (10.9MB)\n",
            "\u001b[K     |████████████████████████████████| 10.9MB 18.6MB/s \n",
            "\u001b[?25hRequirement already satisfied: Flask>=0.8 in /usr/local/lib/python3.6/dist-packages (from flask-restful) (1.1.2)\n",
            "Requirement already satisfied: six>=1.3.0 in /usr/local/lib/python3.6/dist-packages (from flask-restful) (1.15.0)\n",
            "Requirement already satisfied: pytz in /usr/local/lib/python3.6/dist-packages (from flask-restful) (2018.9)\n",
            "Collecting aniso8601>=0.82\n",
            "\u001b[?25l  Downloading https://files.pythonhosted.org/packages/eb/e4/787e104b58eadc1a710738d4e418d7e599e4e778e52cb8e5d5ef6ddd5833/aniso8601-8.0.0-py2.py3-none-any.whl (43kB)\n",
            "\u001b[K     |████████████████████████████████| 51kB 4.3MB/s \n",
            "\u001b[?25hRequirement already satisfied: pillow>=4.3.0 in /usr/local/lib/python3.6/dist-packages (from scikit-image->earthpy) (7.0.0)\n",
            "Requirement already satisfied: networkx>=2.0 in /usr/local/lib/python3.6/dist-packages (from scikit-image->earthpy) (2.5)\n",
            "Requirement already satisfied: imageio>=2.3.0 in /usr/local/lib/python3.6/dist-packages (from scikit-image->earthpy) (2.4.1)\n",
            "Requirement already satisfied: PyWavelets>=0.4.0 in /usr/local/lib/python3.6/dist-packages (from scikit-image->earthpy) (1.1.1)\n",
            "Requirement already satisfied: cycler>=0.10 in /usr/local/lib/python3.6/dist-packages (from matplotlib>=2.0.0->earthpy) (0.10.0)\n",
            "Requirement already satisfied: python-dateutil>=2.1 in /usr/local/lib/python3.6/dist-packages (from matplotlib>=2.0.0->earthpy) (2.8.1)\n",
            "Requirement already satisfied: pyparsing!=2.0.4,!=2.1.2,!=2.1.6,>=2.0.1 in /usr/local/lib/python3.6/dist-packages (from matplotlib>=2.0.0->earthpy) (2.4.7)\n",
            "Requirement already satisfied: kiwisolver>=1.0.1 in /usr/local/lib/python3.6/dist-packages (from matplotlib>=2.0.0->earthpy) (1.2.0)\n",
            "Collecting snuggs>=1.4.1\n",
            "  Downloading https://files.pythonhosted.org/packages/cc/0e/d27d6e806d6c0d1a2cfdc5d1f088e42339a0a54a09c3343f7f81ec8947ea/snuggs-1.4.7-py3-none-any.whl\n",
            "Requirement already satisfied: click<8,>=4.0 in /usr/local/lib/python3.6/dist-packages (from rasterio->earthpy) (7.1.2)\n",
            "Requirement already satisfied: attrs in /usr/local/lib/python3.6/dist-packages (from rasterio->earthpy) (20.2.0)\n",
            "Collecting click-plugins\n",
            "  Downloading https://files.pythonhosted.org/packages/e9/da/824b92d9942f4e472702488857914bdd50f73021efea15b4cad9aca8ecef/click_plugins-1.1.1-py2.py3-none-any.whl\n",
            "Collecting affine\n",
            "  Downloading https://files.pythonhosted.org/packages/ac/a6/1a39a1ede71210e3ddaf623982b06ecfc5c5c03741ae659073159184cd3e/affine-2.3.0-py2.py3-none-any.whl\n",
            "Collecting cligj>=0.5\n",
            "  Downloading https://files.pythonhosted.org/packages/e4/be/30a58b4b0733850280d01f8bd132591b4668ed5c7046761098d665ac2174/cligj-0.5.0-py3-none-any.whl\n",
            "Requirement already satisfied: idna<3,>=2.5 in /usr/local/lib/python3.6/dist-packages (from requests->earthpy) (2.10)\n",
            "Requirement already satisfied: urllib3!=1.25.0,!=1.25.1,<1.26,>=1.21.1 in /usr/local/lib/python3.6/dist-packages (from requests->earthpy) (1.24.3)\n",
            "Requirement already satisfied: certifi>=2017.4.17 in /usr/local/lib/python3.6/dist-packages (from requests->earthpy) (2020.6.20)\n",
            "Requirement already satisfied: chardet<4,>=3.0.2 in /usr/local/lib/python3.6/dist-packages (from requests->earthpy) (3.0.4)\n",
            "Collecting munch\n",
            "  Downloading https://files.pythonhosted.org/packages/cc/ab/85d8da5c9a45e072301beb37ad7f833cd344e04c817d97e0cc75681d248f/munch-2.5.0-py2.py3-none-any.whl\n",
            "Requirement already satisfied: Werkzeug>=0.15 in /usr/local/lib/python3.6/dist-packages (from Flask>=0.8->flask-restful) (1.0.1)\n",
            "Requirement already satisfied: itsdangerous>=0.24 in /usr/local/lib/python3.6/dist-packages (from Flask>=0.8->flask-restful) (1.1.0)\n",
            "Requirement already satisfied: Jinja2>=2.10.1 in /usr/local/lib/python3.6/dist-packages (from Flask>=0.8->flask-restful) (2.11.2)\n",
            "Requirement already satisfied: decorator>=4.3.0 in /usr/local/lib/python3.6/dist-packages (from networkx>=2.0->scikit-image->earthpy) (4.4.2)\n",
            "Requirement already satisfied: MarkupSafe>=0.23 in /usr/local/lib/python3.6/dist-packages (from Jinja2>=2.10.1->Flask>=0.8->flask-restful) (1.1.1)\n",
            "Building wheels for collected packages: earthpy\n",
            "  Building wheel for earthpy (PEP 517) ... \u001b[?25l\u001b[?25hdone\n",
            "  Created wheel for earthpy: filename=earthpy-0.9.2-cp36-none-any.whl size=1365088 sha256=ec75c914e9d081ac28a238c2c2d1daed44f08e01163bb7245455078fb141352d\n",
            "  Stored in directory: /root/.cache/pip/wheels/27/f9/a5/026bb95ef7b12f9343b842da6897b4001c5b902550095cbbbe\n",
            "Successfully built earthpy\n",
            "Installing collected packages: click-plugins, cligj, munch, fiona, pyproj, geopandas, snuggs, affine, rasterio, earthpy, aniso8601, flask-restful, flask-ngrok\n",
            "Successfully installed affine-2.3.0 aniso8601-8.0.0 click-plugins-1.1.1 cligj-0.5.0 earthpy-0.9.2 fiona-1.8.17 flask-ngrok-0.0.25 flask-restful-0.3.8 geopandas-0.8.1 munch-2.5.0 pyproj-2.6.1.post1 rasterio-1.1.7 snuggs-1.4.7\n"
          ],
          "name": "stdout"
        }
      ]
    },
    {
      "cell_type": "code",
      "metadata": {
        "id": "sUPiUcNCwPA7"
      },
      "source": [
        "from glob import glob\n",
        "import os\n",
        "import numpy as np\n",
        "\n",
        "import matplotlib.pyplot as plt\n",
        "from matplotlib import patches as mpatches\n",
        "from matplotlib.colors import ListedColormap\n",
        "from matplotlib import colors\n",
        "import matplotlib as mpl\n",
        "import seaborn as sns\n",
        "\n",
        "import rasterio as rio\n",
        "from rasterio.plot import plotting_extent, show\n",
        "from rasterio.plot import reshape_as_raster, reshape_as_image\n",
        "\n",
        "import geopandas as gpd\n",
        "from shapely.geometry import mapping, box\n",
        "\n",
        "import earthpy as et\n",
        "import earthpy.spatial as es\n",
        "import earthpy.plot as ep\n",
        "\n",
        "import flask\n",
        "from flask_ngrok import run_with_ngrok\n",
        "from flask import Flask\n",
        "from flask_restful import Resource, Api\n",
        "import json\n",
        "\n",
        "sns.set_style('white')\n",
        "sns.set(font_scale=1.5)\n",
        "\n",
        "# data1 = et.data.get_data('cold-springs-fire')\n",
        "# data2 = et.data.get_data('cs-test-landsat')\n",
        "# os.chdir(os.path.join(et.io.HOME, 'earth-analytics'))"
      ],
      "execution_count": null,
      "outputs": []
    },
    {
      "cell_type": "code",
      "metadata": {
        "id": "1jOmZp_xwXvJ",
        "outputId": "ff3763f2-2ecd-4842-a215-7fdc78a5e375",
        "colab": {
          "base_uri": "https://localhost:8080/",
          "height": 34
        }
      },
      "source": [
        "from google.colab import drive\n",
        "drive.mount('/content/drive')"
      ],
      "execution_count": null,
      "outputs": [
        {
          "output_type": "stream",
          "text": [
            "Mounted at /content/drive\n"
          ],
          "name": "stdout"
        }
      ]
    },
    {
      "cell_type": "code",
      "metadata": {
        "id": "vihKAEaoGHaE"
      },
      "source": [
        "class NumpyEncoder(json.JSONEncoder):\n",
        "    \"\"\" Special json encoder for numpy types \"\"\"\n",
        "    def default(self, obj):\n",
        "        if isinstance(obj, np.integer):\n",
        "            return int(obj)\n",
        "        elif isinstance(obj, np.floating):\n",
        "            return float(obj)\n",
        "        elif isinstance(obj, np.ndarray):\n",
        "            return obj.tolist()\n",
        "        return json.JSONEncoder.default(self, obj)"
      ],
      "execution_count": null,
      "outputs": []
    },
    {
      "cell_type": "code",
      "metadata": {
        "id": "yB2d1uRj8Hvy"
      },
      "source": [
        "def show_band(img, title='', size=(6,6), cmap='viridis'):\n",
        "  print(title+' Shape: ', img.shape)\n",
        "  fig = plt.figure(figsize=size)\n",
        "  plt.imshow(img.reshape(img.shape[0], img.shape[1]), cmap= cmap)\n",
        "  plt.axis('off')\n",
        "  plt.colorbar()\n",
        "  plt.title(title)\n",
        "  plt.show()\n",
        "\n",
        "def nbr(band1, band2):\n",
        "    \"\"\"\n",
        "    This function takes an input the arrays of the bands from the read_band_image\n",
        "    function and returns the Normalized Burn ratio (NBR)\n",
        "    input:  band1   array (n x m)      array of first band image e.g B8A\n",
        "            band2   array (n x m)      array of second band image e.g. B12\n",
        "    output: nbr     array (n x m)      normalized burn ratio\n",
        "    \"\"\"\n",
        "    nbr = (band1 - band2) / (band1 + band2)\n",
        "    return nbr\n",
        "\n",
        "def dnbr(nbr1,nbr2):\n",
        "    \"\"\"\n",
        "    This function takes as input the pre- and post-fire NBR and returns the dNBR\n",
        "    input:  nbr1     array (n x m)       pre-fire NBR\n",
        "            nbr2     array (n x m)       post-fire NBR\n",
        "    output: dnbr     array (n x m)       dNBR\n",
        "    \"\"\"\n",
        "    dnbr = nbr1 - nbr2\n",
        "    return dnbr"
      ],
      "execution_count": null,
      "outputs": []
    },
    {
      "cell_type": "code",
      "metadata": {
        "id": "t4OJwlYV7bU5"
      },
      "source": [
        "def classify():\n",
        "  # Identify band-paths\n",
        "  sentinel_pre_fire_bands = glob(\"sentinel-pre-fire/*.jp2\")\n",
        "  sentinel_post_fire_bands = glob(\"sentinel-post-fire/*.jp2\")\n",
        "\n",
        "  sentinel_pre_fire_bands.sort()\n",
        "  sentinel_post_fire_bands.sort()\n",
        "\n",
        "  print(sentinel_pre_fire_bands)\n",
        "  print(sentinel_post_fire_bands)\n",
        "\n",
        "  # Read the pre-fire band images\n",
        "  with rio.open(sentinel_pre_fire_bands[3]) as f1:\n",
        "    SWIR = reshape_as_image(f1.read())\n",
        "\n",
        "  with rio.open(sentinel_pre_fire_bands[4]) as f1:\n",
        "    NIR = reshape_as_image(f1.read())\n",
        "\n",
        "  # Calculation of pre-fire NBR\n",
        "  pre_fire_nbr = nbr(NIR.astype(int), SWIR.astype(int))\n",
        "\n",
        "  # Read the post-fire band images\n",
        "  with rio.open(sentinel_post_fire_bands[3]) as f1:\n",
        "      SWIR = reshape_as_image(f1.read())\n",
        "\n",
        "  with rio.open(sentinel_post_fire_bands[4]) as f1:\n",
        "      NIR = reshape_as_image(f1.read())\n",
        "\n",
        "  # Calculation of post-fire NBR\n",
        "  post_fire_nbr = nbr(NIR.astype(int), SWIR.astype(int))\n",
        "\n",
        "  # Calculation of dNBR\n",
        "  DNBR = dnbr(pre_fire_nbr, post_fire_nbr)\n",
        "\n",
        "  dnbr_sentinel_class = get_sentinel_class(DNBR)\n",
        "  \n",
        "  affected_areas = get_area(dnbr_sentinel_class)\n",
        "\n",
        "  data = [dnbr_sentinel_class, affected_areas]\n",
        "  return json.dumps(data, cls=NumpyEncoder)\n",
        "\n",
        "  # return plot_colormap(dnbr_sentinel_class)"
      ],
      "execution_count": null,
      "outputs": []
    },
    {
      "cell_type": "code",
      "metadata": {
        "id": "CbGr7ekP7uee"
      },
      "source": [
        "def get_sentinel_class(DNBR):\n",
        "  dnbr_class_bins = [-np.inf, -0.1, 0.1, 0.27, 0.66, np.inf]\n",
        "  dnbr_sentinel_class = np.digitize(DNBR, dnbr_class_bins)\n",
        "  return dnbr_sentinel_class"
      ],
      "execution_count": null,
      "outputs": []
    },
    {
      "cell_type": "code",
      "metadata": {
        "id": "prVWEmHJ7u4W"
      },
      "source": [
        "def plot_colormap(dnbr_sentinel_class):\n",
        "  dnbr_cat_names = [\"Enhanced Regrowth\",\n",
        "                    \"Unburned\",\n",
        "                    \"Low Severity\",\n",
        "                    \"Moderate Severity\",\n",
        "                    \"High Severity\"]\n",
        "\n",
        "  nbr_colors = [\"g\", \"yellowgreen\", \"peachpuff\", \"coral\", \"maroon\"]\n",
        "\n",
        "  nbr_cmap = ListedColormap(nbr_colors)\n",
        "\n",
        "  # Plot the data with a custom legend\n",
        "  fig, ax = plt.subplots(figsize=(10, 8))\n",
        "  im = ax.imshow(dnbr_sentinel_class.reshape(dnbr_sentinel_class.shape[:2]), cmap=nbr_cmap)\n",
        "\n",
        "  ax.set_title(\"Sentinel dNBR\",\n",
        "              fontsize=16)\n",
        "\n",
        "  cbar = ep.colorbar(im)\n",
        "\n",
        "  cbar.set_ticks(np.unique(dnbr_sentinel_class))\n",
        "  cbar.set_ticklabels(dnbr_cat_names)\n",
        "\n",
        "  # Turn off ticks\n",
        "  ax.set_axis_off()\n",
        "  return plt.show()"
      ],
      "execution_count": null,
      "outputs": []
    },
    {
      "cell_type": "code",
      "metadata": {
        "id": "OhSKOAYMRRbO"
      },
      "source": [
        "# # To calculate area, multiply the number of pixels in each bin by image resolution\n",
        "\n",
        "def get_area(dnbr_sentinel_class):\n",
        "  sentinel_pixel_size = 20 * 20\n",
        "  enhanced_regrowth = (dnbr_sentinel_class[dnbr_sentinel_class == 1]).size\n",
        "  unburned = (dnbr_sentinel_class[dnbr_sentinel_class == 2]).size\n",
        "  low = (dnbr_sentinel_class[dnbr_sentinel_class == 3]).size\n",
        "  moderate = (dnbr_sentinel_class[dnbr_sentinel_class == 4]).size\n",
        "  high = (dnbr_sentinel_class[dnbr_sentinel_class == 5]).size\n",
        "\n",
        "\n",
        "  enhanced_regrowth = np.multiply(enhanced_regrowth, sentinel_pixel_size)/1000000\n",
        "  unburned = np.multiply(unburned, sentinel_pixel_size)/1000000\n",
        "  low = np.multiply(low, sentinel_pixel_size)/1000000\n",
        "  moderate = np.multiply(moderate, sentinel_pixel_size)/1000000\n",
        "  high = np.multiply(high, sentinel_pixel_size)/1000000\n",
        "\n",
        "  affected_areas = {\n",
        "      'enhanced_regrowth': enhanced_regrowth,\n",
        "      'unburned': unburned,\n",
        "      'low': low,\n",
        "      'moderate': moderate,\n",
        "      'high': high,\n",
        "  }\n",
        "  return affected_areas"
      ],
      "execution_count": null,
      "outputs": []
    },
    {
      "cell_type": "code",
      "metadata": {
        "id": "C-kRDAE4u-BE",
        "outputId": "e85b8fb2-967e-482f-c760-c3e068aeb7d7",
        "colab": {
          "base_uri": "https://localhost:8080/",
          "height": 158
        }
      },
      "source": [
        "app = Flask(__name__)\n",
        "api = Api(app)\n",
        "run_with_ngrok(app)   #starts ngrok when the app is run\n",
        "\n",
        "class Classify(Resource):\n",
        "    def get(self, keywords):\n",
        "      # Change directory into the specified case study\n",
        "      os.chdir(\"/content/drive/My Drive/spaceapps_data/{}\".format(keywords))\n",
        "      # Call the classify method here and return the output\n",
        "      return classify()\n",
        "\n",
        "api.add_resource(Classify, '/classify/<string:keywords>')\n",
        "\n",
        "if __name__ == '__main__':\n",
        "    app.run()"
      ],
      "execution_count": null,
      "outputs": [
        {
          "output_type": "stream",
          "text": [
            " * Serving Flask app \"__main__\" (lazy loading)\n",
            " * Environment: production\n",
            "\u001b[31m   WARNING: This is a development server. Do not use it in a production deployment.\u001b[0m\n",
            "\u001b[2m   Use a production WSGI server instead.\u001b[0m\n",
            " * Debug mode: off\n"
          ],
          "name": "stdout"
        },
        {
          "output_type": "stream",
          "text": [
            " * Running on http://127.0.0.1:5000/ (Press CTRL+C to quit)\n"
          ],
          "name": "stderr"
        },
        {
          "output_type": "stream",
          "text": [
            " * Running on http://07636859cd67.ngrok.io\n",
            " * Traffic stats available on http://127.0.0.1:4040\n"
          ],
          "name": "stdout"
        }
      ]
    }
  ]
}